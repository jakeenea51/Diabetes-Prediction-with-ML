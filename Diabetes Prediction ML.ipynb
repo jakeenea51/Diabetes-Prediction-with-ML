{
 "cells": [
  {
   "cell_type": "markdown",
   "id": "5f16513e",
   "metadata": {},
   "source": [
    "# Diabetes Prediction Using Machine Learning"
   ]
  },
  {
   "cell_type": "markdown",
   "id": "c685452e",
   "metadata": {},
   "source": [
    "#### This program will demonstrate how to build a machine learning model that is capable of predicting whether a person will test positive or negative for diabetes based on several physical qualities. The data used was found at [UCI Machine Learning Repository](https://archive.ics.uci.edu/ml/index.php)."
   ]
  },
  {
   "cell_type": "markdown",
   "id": "fecdc165",
   "metadata": {},
   "source": [
    "Import necessary libraries"
   ]
  },
  {
   "cell_type": "code",
   "execution_count": 5,
   "id": "05d689aa",
   "metadata": {},
   "outputs": [],
   "source": [
    "import pandas as pd\n",
    "import numpy as np\n",
    "\n",
    "import matplotlib.pyplot as plt\n",
    "from sklearn import preprocessing\n",
    "from sklearn import linear_model\n",
    "from sklearn import metrics\n",
    "from sklearn.model_selection import train_test_split\n",
    "from sklearn.ensemble import RandomForestClassifier\n",
    "from sklearn.model_selection import cross_val_score\n",
    "from sklearn.metrics import accuracy_score\n",
    "from sklearn.naive_bayes import GaussianNB\n",
    "from sklearn.metrics import confusion_matrix\n",
    "from sklearn.metrics import classification_report \n",
    "\n",
    "from sklearn.neural_network import MLPClassifier\n",
    "from sklearn.neighbors import KNeighborsClassifier\n",
    "from sklearn.tree import DecisionTreeClassifier\n",
    "from sklearn.svm import SVC\n",
    "from sklearn import svm\n",
    "import sklearn as sk"
   ]
  },
  {
   "cell_type": "markdown",
   "id": "a0236bfe",
   "metadata": {},
   "source": [
    "## Step 1: Load dataset into a dataframe\n",
    "Prepares data in a form suitable for further analysis."
   ]
  },
  {
   "cell_type": "code",
   "execution_count": 6,
   "id": "a74b1943",
   "metadata": {},
   "outputs": [],
   "source": [
    "df = pd.read_csv('diabetes_data.csv')"
   ]
  },
  {
   "cell_type": "markdown",
   "id": "f8ca0f43",
   "metadata": {},
   "source": [
    "## Step 2: Quickly study data\n",
    "Studying data before moving forward is always a good idea. While doing this, you should determine what information is going to be used for the predictions and what information might not be necessary."
   ]
  },
  {
   "cell_type": "code",
   "execution_count": 7,
   "id": "2e5f45e8",
   "metadata": {},
   "outputs": [
    {
     "data": {
      "text/html": [
       "<div>\n",
       "<style scoped>\n",
       "    .dataframe tbody tr th:only-of-type {\n",
       "        vertical-align: middle;\n",
       "    }\n",
       "\n",
       "    .dataframe tbody tr th {\n",
       "        vertical-align: top;\n",
       "    }\n",
       "\n",
       "    .dataframe thead th {\n",
       "        text-align: right;\n",
       "    }\n",
       "</style>\n",
       "<table border=\"1\" class=\"dataframe\">\n",
       "  <thead>\n",
       "    <tr style=\"text-align: right;\">\n",
       "      <th></th>\n",
       "      <th>Pregnancies</th>\n",
       "      <th>Glucose</th>\n",
       "      <th>BloodPressure</th>\n",
       "      <th>SkinThickness</th>\n",
       "      <th>Insulin</th>\n",
       "      <th>BMI</th>\n",
       "      <th>DiabetesPedigreeFunction</th>\n",
       "      <th>Age</th>\n",
       "      <th>Outcome</th>\n",
       "    </tr>\n",
       "  </thead>\n",
       "  <tbody>\n",
       "    <tr>\n",
       "      <th>0</th>\n",
       "      <td>6</td>\n",
       "      <td>148</td>\n",
       "      <td>72</td>\n",
       "      <td>35</td>\n",
       "      <td>0</td>\n",
       "      <td>33.6</td>\n",
       "      <td>0.627</td>\n",
       "      <td>50</td>\n",
       "      <td>1</td>\n",
       "    </tr>\n",
       "    <tr>\n",
       "      <th>1</th>\n",
       "      <td>1</td>\n",
       "      <td>85</td>\n",
       "      <td>66</td>\n",
       "      <td>29</td>\n",
       "      <td>0</td>\n",
       "      <td>26.6</td>\n",
       "      <td>0.351</td>\n",
       "      <td>31</td>\n",
       "      <td>0</td>\n",
       "    </tr>\n",
       "    <tr>\n",
       "      <th>2</th>\n",
       "      <td>8</td>\n",
       "      <td>183</td>\n",
       "      <td>64</td>\n",
       "      <td>0</td>\n",
       "      <td>0</td>\n",
       "      <td>23.3</td>\n",
       "      <td>0.672</td>\n",
       "      <td>32</td>\n",
       "      <td>1</td>\n",
       "    </tr>\n",
       "    <tr>\n",
       "      <th>3</th>\n",
       "      <td>1</td>\n",
       "      <td>89</td>\n",
       "      <td>66</td>\n",
       "      <td>23</td>\n",
       "      <td>94</td>\n",
       "      <td>28.1</td>\n",
       "      <td>0.167</td>\n",
       "      <td>21</td>\n",
       "      <td>0</td>\n",
       "    </tr>\n",
       "    <tr>\n",
       "      <th>4</th>\n",
       "      <td>0</td>\n",
       "      <td>137</td>\n",
       "      <td>40</td>\n",
       "      <td>35</td>\n",
       "      <td>168</td>\n",
       "      <td>43.1</td>\n",
       "      <td>2.288</td>\n",
       "      <td>33</td>\n",
       "      <td>1</td>\n",
       "    </tr>\n",
       "    <tr>\n",
       "      <th>...</th>\n",
       "      <td>...</td>\n",
       "      <td>...</td>\n",
       "      <td>...</td>\n",
       "      <td>...</td>\n",
       "      <td>...</td>\n",
       "      <td>...</td>\n",
       "      <td>...</td>\n",
       "      <td>...</td>\n",
       "      <td>...</td>\n",
       "    </tr>\n",
       "    <tr>\n",
       "      <th>763</th>\n",
       "      <td>10</td>\n",
       "      <td>101</td>\n",
       "      <td>76</td>\n",
       "      <td>48</td>\n",
       "      <td>180</td>\n",
       "      <td>32.9</td>\n",
       "      <td>0.171</td>\n",
       "      <td>63</td>\n",
       "      <td>0</td>\n",
       "    </tr>\n",
       "    <tr>\n",
       "      <th>764</th>\n",
       "      <td>2</td>\n",
       "      <td>122</td>\n",
       "      <td>70</td>\n",
       "      <td>27</td>\n",
       "      <td>0</td>\n",
       "      <td>36.8</td>\n",
       "      <td>0.340</td>\n",
       "      <td>27</td>\n",
       "      <td>0</td>\n",
       "    </tr>\n",
       "    <tr>\n",
       "      <th>765</th>\n",
       "      <td>5</td>\n",
       "      <td>121</td>\n",
       "      <td>72</td>\n",
       "      <td>23</td>\n",
       "      <td>112</td>\n",
       "      <td>26.2</td>\n",
       "      <td>0.245</td>\n",
       "      <td>30</td>\n",
       "      <td>0</td>\n",
       "    </tr>\n",
       "    <tr>\n",
       "      <th>766</th>\n",
       "      <td>1</td>\n",
       "      <td>126</td>\n",
       "      <td>60</td>\n",
       "      <td>0</td>\n",
       "      <td>0</td>\n",
       "      <td>30.1</td>\n",
       "      <td>0.349</td>\n",
       "      <td>47</td>\n",
       "      <td>1</td>\n",
       "    </tr>\n",
       "    <tr>\n",
       "      <th>767</th>\n",
       "      <td>1</td>\n",
       "      <td>93</td>\n",
       "      <td>70</td>\n",
       "      <td>31</td>\n",
       "      <td>0</td>\n",
       "      <td>30.4</td>\n",
       "      <td>0.315</td>\n",
       "      <td>23</td>\n",
       "      <td>0</td>\n",
       "    </tr>\n",
       "  </tbody>\n",
       "</table>\n",
       "<p>768 rows × 9 columns</p>\n",
       "</div>"
      ],
      "text/plain": [
       "     Pregnancies  Glucose  BloodPressure  SkinThickness  Insulin   BMI  \\\n",
       "0              6      148             72             35        0  33.6   \n",
       "1              1       85             66             29        0  26.6   \n",
       "2              8      183             64              0        0  23.3   \n",
       "3              1       89             66             23       94  28.1   \n",
       "4              0      137             40             35      168  43.1   \n",
       "..           ...      ...            ...            ...      ...   ...   \n",
       "763           10      101             76             48      180  32.9   \n",
       "764            2      122             70             27        0  36.8   \n",
       "765            5      121             72             23      112  26.2   \n",
       "766            1      126             60              0        0  30.1   \n",
       "767            1       93             70             31        0  30.4   \n",
       "\n",
       "     DiabetesPedigreeFunction  Age  Outcome  \n",
       "0                       0.627   50        1  \n",
       "1                       0.351   31        0  \n",
       "2                       0.672   32        1  \n",
       "3                       0.167   21        0  \n",
       "4                       2.288   33        1  \n",
       "..                        ...  ...      ...  \n",
       "763                     0.171   63        0  \n",
       "764                     0.340   27        0  \n",
       "765                     0.245   30        0  \n",
       "766                     0.349   47        1  \n",
       "767                     0.315   23        0  \n",
       "\n",
       "[768 rows x 9 columns]"
      ]
     },
     "execution_count": 7,
     "metadata": {},
     "output_type": "execute_result"
    }
   ],
   "source": [
    "df"
   ]
  },
  {
   "cell_type": "markdown",
   "id": "e31aaab4",
   "metadata": {},
   "source": [
    "The **describe** command provides statistics about your data. This can be useful in getting a general understanding of the shape of your data."
   ]
  },
  {
   "cell_type": "code",
   "execution_count": 8,
   "id": "05bbb2d7",
   "metadata": {},
   "outputs": [
    {
     "data": {
      "text/html": [
       "<div>\n",
       "<style scoped>\n",
       "    .dataframe tbody tr th:only-of-type {\n",
       "        vertical-align: middle;\n",
       "    }\n",
       "\n",
       "    .dataframe tbody tr th {\n",
       "        vertical-align: top;\n",
       "    }\n",
       "\n",
       "    .dataframe thead th {\n",
       "        text-align: right;\n",
       "    }\n",
       "</style>\n",
       "<table border=\"1\" class=\"dataframe\">\n",
       "  <thead>\n",
       "    <tr style=\"text-align: right;\">\n",
       "      <th></th>\n",
       "      <th>Pregnancies</th>\n",
       "      <th>Glucose</th>\n",
       "      <th>BloodPressure</th>\n",
       "      <th>SkinThickness</th>\n",
       "      <th>Insulin</th>\n",
       "      <th>BMI</th>\n",
       "      <th>DiabetesPedigreeFunction</th>\n",
       "      <th>Age</th>\n",
       "      <th>Outcome</th>\n",
       "    </tr>\n",
       "  </thead>\n",
       "  <tbody>\n",
       "    <tr>\n",
       "      <th>count</th>\n",
       "      <td>768.000000</td>\n",
       "      <td>768.000000</td>\n",
       "      <td>768.000000</td>\n",
       "      <td>768.000000</td>\n",
       "      <td>768.000000</td>\n",
       "      <td>768.000000</td>\n",
       "      <td>768.000000</td>\n",
       "      <td>768.000000</td>\n",
       "      <td>768.000000</td>\n",
       "    </tr>\n",
       "    <tr>\n",
       "      <th>mean</th>\n",
       "      <td>3.845052</td>\n",
       "      <td>120.894531</td>\n",
       "      <td>69.105469</td>\n",
       "      <td>20.536458</td>\n",
       "      <td>79.799479</td>\n",
       "      <td>31.992578</td>\n",
       "      <td>0.471876</td>\n",
       "      <td>33.240885</td>\n",
       "      <td>0.348958</td>\n",
       "    </tr>\n",
       "    <tr>\n",
       "      <th>std</th>\n",
       "      <td>3.369578</td>\n",
       "      <td>31.972618</td>\n",
       "      <td>19.355807</td>\n",
       "      <td>15.952218</td>\n",
       "      <td>115.244002</td>\n",
       "      <td>7.884160</td>\n",
       "      <td>0.331329</td>\n",
       "      <td>11.760232</td>\n",
       "      <td>0.476951</td>\n",
       "    </tr>\n",
       "    <tr>\n",
       "      <th>min</th>\n",
       "      <td>0.000000</td>\n",
       "      <td>0.000000</td>\n",
       "      <td>0.000000</td>\n",
       "      <td>0.000000</td>\n",
       "      <td>0.000000</td>\n",
       "      <td>0.000000</td>\n",
       "      <td>0.078000</td>\n",
       "      <td>21.000000</td>\n",
       "      <td>0.000000</td>\n",
       "    </tr>\n",
       "    <tr>\n",
       "      <th>25%</th>\n",
       "      <td>1.000000</td>\n",
       "      <td>99.000000</td>\n",
       "      <td>62.000000</td>\n",
       "      <td>0.000000</td>\n",
       "      <td>0.000000</td>\n",
       "      <td>27.300000</td>\n",
       "      <td>0.243750</td>\n",
       "      <td>24.000000</td>\n",
       "      <td>0.000000</td>\n",
       "    </tr>\n",
       "    <tr>\n",
       "      <th>50%</th>\n",
       "      <td>3.000000</td>\n",
       "      <td>117.000000</td>\n",
       "      <td>72.000000</td>\n",
       "      <td>23.000000</td>\n",
       "      <td>30.500000</td>\n",
       "      <td>32.000000</td>\n",
       "      <td>0.372500</td>\n",
       "      <td>29.000000</td>\n",
       "      <td>0.000000</td>\n",
       "    </tr>\n",
       "    <tr>\n",
       "      <th>75%</th>\n",
       "      <td>6.000000</td>\n",
       "      <td>140.250000</td>\n",
       "      <td>80.000000</td>\n",
       "      <td>32.000000</td>\n",
       "      <td>127.250000</td>\n",
       "      <td>36.600000</td>\n",
       "      <td>0.626250</td>\n",
       "      <td>41.000000</td>\n",
       "      <td>1.000000</td>\n",
       "    </tr>\n",
       "    <tr>\n",
       "      <th>max</th>\n",
       "      <td>17.000000</td>\n",
       "      <td>199.000000</td>\n",
       "      <td>122.000000</td>\n",
       "      <td>99.000000</td>\n",
       "      <td>846.000000</td>\n",
       "      <td>67.100000</td>\n",
       "      <td>2.420000</td>\n",
       "      <td>81.000000</td>\n",
       "      <td>1.000000</td>\n",
       "    </tr>\n",
       "  </tbody>\n",
       "</table>\n",
       "</div>"
      ],
      "text/plain": [
       "       Pregnancies     Glucose  BloodPressure  SkinThickness     Insulin  \\\n",
       "count   768.000000  768.000000     768.000000     768.000000  768.000000   \n",
       "mean      3.845052  120.894531      69.105469      20.536458   79.799479   \n",
       "std       3.369578   31.972618      19.355807      15.952218  115.244002   \n",
       "min       0.000000    0.000000       0.000000       0.000000    0.000000   \n",
       "25%       1.000000   99.000000      62.000000       0.000000    0.000000   \n",
       "50%       3.000000  117.000000      72.000000      23.000000   30.500000   \n",
       "75%       6.000000  140.250000      80.000000      32.000000  127.250000   \n",
       "max      17.000000  199.000000     122.000000      99.000000  846.000000   \n",
       "\n",
       "              BMI  DiabetesPedigreeFunction         Age     Outcome  \n",
       "count  768.000000                768.000000  768.000000  768.000000  \n",
       "mean    31.992578                  0.471876   33.240885    0.348958  \n",
       "std      7.884160                  0.331329   11.760232    0.476951  \n",
       "min      0.000000                  0.078000   21.000000    0.000000  \n",
       "25%     27.300000                  0.243750   24.000000    0.000000  \n",
       "50%     32.000000                  0.372500   29.000000    0.000000  \n",
       "75%     36.600000                  0.626250   41.000000    1.000000  \n",
       "max     67.100000                  2.420000   81.000000    1.000000  "
      ]
     },
     "execution_count": 8,
     "metadata": {},
     "output_type": "execute_result"
    }
   ],
   "source": [
    "df.describe()"
   ]
  },
  {
   "cell_type": "markdown",
   "id": "ae373fb5",
   "metadata": {},
   "source": [
    "## Step 3: Clean data\n",
    "**Cleaning** your data means getting rid of unnecessary information or duplicate values and fixing any problems with your dataset. In this case, there are no changes needed to be made so our data is prepared."
   ]
  },
  {
   "cell_type": "markdown",
   "id": "83157221",
   "metadata": {},
   "source": [
    "## Step 4: Split data\n",
    "Before splitting the data, we must determine what we want to predict. In this case, we want to predict the outcome column, so we will place that in the output dataframe (y), and we will place the rest of the columns in the input dataframe (X)."
   ]
  },
  {
   "cell_type": "code",
   "execution_count": 9,
   "id": "40574d5d",
   "metadata": {},
   "outputs": [
    {
     "data": {
      "text/plain": [
       "0      1\n",
       "1      0\n",
       "2      1\n",
       "3      0\n",
       "4      1\n",
       "      ..\n",
       "763    0\n",
       "764    0\n",
       "765    0\n",
       "766    1\n",
       "767    0\n",
       "Name: Outcome, Length: 768, dtype: int64"
      ]
     },
     "execution_count": 9,
     "metadata": {},
     "output_type": "execute_result"
    }
   ],
   "source": [
    "y = df['Outcome']\n",
    "y"
   ]
  },
  {
   "cell_type": "code",
   "execution_count": 10,
   "id": "1df47a84",
   "metadata": {},
   "outputs": [
    {
     "data": {
      "text/plain": [
       "['Pregnancies',\n",
       " 'Glucose',\n",
       " 'BloodPressure',\n",
       " 'SkinThickness',\n",
       " 'Insulin',\n",
       " 'BMI',\n",
       " 'DiabetesPedigreeFunction',\n",
       " 'Age']"
      ]
     },
     "execution_count": 10,
     "metadata": {},
     "output_type": "execute_result"
    }
   ],
   "source": [
    "X = df.drop(columns = 'Outcome')\n",
    "list(X.columns)"
   ]
  },
  {
   "cell_type": "markdown",
   "id": "2f7f7165",
   "metadata": {},
   "source": [
    "## Step 5: Create training and testing datasets\n",
    "When working with machine learning, it is important to use one portion of your data to train the model and the other to test the model. In order to do this, we must first determine how much of our data we want to designate to training the model and how much we'll reserve to test it. An effective ratio in order to do this would be using **80%** of our data to train the model, and **20%** to test it. \n",
    "Using the **train_test_split** function will create four new variables: \n",
    "- X_train = input set used for training the model (80% of all inputs in original dataset)\n",
    "- X_test = input set used for testing the model (20% of all inputs in original dataset)\n",
    "- y_train = output set used for training the model (80% of all outputs in original dataset)\n",
    "- y_test = output set used for measuring the accuracy of the model (20% of all outputs in original dataset)"
   ]
  },
  {
   "cell_type": "code",
   "execution_count": 14,
   "id": "43d1dde1",
   "metadata": {},
   "outputs": [
    {
     "name": "stdout",
     "output_type": "stream",
     "text": [
      "Number of items in:\n",
      "- input training set: (614, 8)\n",
      "- output training set: (614,)\n",
      "- input testing set: (154, 8)\n",
      "- output testing set: (154,)\n"
     ]
    }
   ],
   "source": [
    "X_train, X_test, y_train, y_test = train_test_split(X, y, test_size = 0.2, random_state = 42)\n",
    "\n",
    "print('Number of items in:')\n",
    "print('- input training set:', X_train.shape)\n",
    "print('- output training set:', y_train.shape)\n",
    "print('- input testing set:', X_test.shape)\n",
    "print('- output testing set:', y_test.shape)"
   ]
  },
  {
   "cell_type": "markdown",
   "id": "c683ecca",
   "metadata": {},
   "source": [
    "## Step 6: Initialize machine learning model\n",
    "Now it is time to create and initialize the machine learning model. Before doing so, it is important to choose which model is most fitting for the dataset being used. For this example, we will be using the **DecisionTreeClassifier** model."
   ]
  },
  {
   "cell_type": "code",
   "execution_count": 15,
   "id": "d92de975",
   "metadata": {},
   "outputs": [],
   "source": [
    "#Create the model\n",
    "model = DecisionTreeClassifier()\n",
    "\n",
    "#Train the model\n",
    "model.fit(X_train, y_train)\n",
    "\n",
    "#Get predictions from the model\n",
    "predictions = model.predict(X_test)"
   ]
  },
  {
   "cell_type": "markdown",
   "id": "52b57835",
   "metadata": {},
   "source": [
    "## Step 7: Compare predictions with actual values\n",
    "Now that we have trained and tested the model, we can compare the predictions our model produced with the actual values stored in y_test."
   ]
  },
  {
   "cell_type": "code",
   "execution_count": 263,
   "id": "f904df32",
   "metadata": {},
   "outputs": [
    {
     "name": "stdout",
     "output_type": "stream",
     "text": [
      "Predictions:\n",
      "[0 0 0 0 0 1 0 0 0 0]\n",
      "\n",
      "Actual values:\n",
      "[0, 0, 0, 0, 0, 0, 0, 0, 0, 0]\n"
     ]
    }
   ],
   "source": [
    "print('Predictions:')\n",
    "print(predictions[:10])\n",
    "print('\\nActual values:')\n",
    "print(list(y_test)[:10])"
   ]
  },
  {
   "cell_type": "markdown",
   "id": "fa7fc140",
   "metadata": {},
   "source": [
    "We can calculate an accuracy score, which tells us how accurate our model was in determining whether a person was diabetic or not. This model ended up being about **76.6%** accurate, which is pretty good for this amount of data."
   ]
  },
  {
   "cell_type": "code",
   "execution_count": 268,
   "id": "eab118c3",
   "metadata": {},
   "outputs": [
    {
     "name": "stdout",
     "output_type": "stream",
     "text": [
      "Accuracy: 76.62337662337663%\n"
     ]
    }
   ],
   "source": [
    "score = accuracy_score(y_test, predictions)\n",
    "print('Accuracy: ' + str(score*100) + '%')"
   ]
  },
  {
   "cell_type": "markdown",
   "id": "03f34473",
   "metadata": {},
   "source": [
    "We can also create a confusion matrix and a classification report to see where our model may have faltered."
   ]
  },
  {
   "cell_type": "code",
   "execution_count": 275,
   "id": "9a93e6f8",
   "metadata": {},
   "outputs": [
    {
     "name": "stdout",
     "output_type": "stream",
     "text": [
      "Confusion Matrix:\n",
      "\n",
      "[[78 21]\n",
      " [15 40]]\n",
      "\n",
      "Classification Report:\n",
      "\n",
      "              precision    recall  f1-score   support\n",
      "\n",
      "           0       0.84      0.79      0.81        99\n",
      "           1       0.66      0.73      0.69        55\n",
      "\n",
      "    accuracy                           0.77       154\n",
      "   macro avg       0.75      0.76      0.75       154\n",
      "weighted avg       0.77      0.77      0.77       154\n",
      "\n"
     ]
    }
   ],
   "source": [
    "print('Confusion Matrix:\\n')\n",
    "print(confusion_matrix(y_test, predictions))\n",
    "\n",
    "print('\\nClassification Report:\\n')\n",
    "print(classification_report(y_test, predictions))"
   ]
  },
  {
   "cell_type": "markdown",
   "id": "d08a1029",
   "metadata": {},
   "source": [
    "**Cross validation** is also a great way to measure the accuracy of the model. Cross validation runs multiple training and testing sets through the model and calculates the average accuracy from those sets. This can give a better estimate on the overall accuracy of the model since it measures multiple combinations of testing and training sets. "
   ]
  },
  {
   "cell_type": "code",
   "execution_count": 21,
   "id": "a4a8d7fe",
   "metadata": {},
   "outputs": [
    {
     "name": "stdout",
     "output_type": "stream",
     "text": [
      "Average accuracy (10 fold cross validation): 71.35167464114834%\n"
     ]
    }
   ],
   "source": [
    "scores = cross_val_score(model, X, y, scoring='accuracy', cv=10)\n",
    "print('Average accuracy (10 fold cross validation):', str(np.mean(scores) * 100) + '%')"
   ]
  },
  {
   "cell_type": "markdown",
   "id": "eb6f15da",
   "metadata": {},
   "source": [
    "## Step 8: Test with other ML models\n",
    "It is often a good idea to test other ML models to see which is most proficient for this particular dataset. Below are the results from several other models."
   ]
  },
  {
   "cell_type": "code",
   "execution_count": 293,
   "id": "9c008ef1",
   "metadata": {},
   "outputs": [
    {
     "name": "stdout",
     "output_type": "stream",
     "text": [
      "RandomForestClassifier Accuracy: 74.02597402597402%\n",
      "\n",
      "GaussianNB Accuracy: 76.62337662337663%\n",
      "\n",
      "MLPClassifier Accuracy: 65.5844155844156%\n",
      "\n",
      "KNeighborsClassifier Accuracy: 66.23376623376623%\n",
      "\n",
      "SVC Accuracy: 76.62337662337663%\n"
     ]
    }
   ],
   "source": [
    "model = RandomForestClassifier()\n",
    "model.fit(X_train, y_train)\n",
    "predictions = model.predict(X_test)\n",
    "print('RandomForestClassifier Accuracy: ' + str(accuracy_score(y_test, predictions)*100) + '%')\n",
    "\n",
    "model = GaussianNB()\n",
    "model.fit(X_train, y_train)\n",
    "predictions = model.predict(X_test)\n",
    "print('\\nGaussianNB Accuracy: ' + str(accuracy_score(y_test, predictions)*100) + '%')\n",
    "\n",
    "model = MLPClassifier()\n",
    "model.fit(X_train, y_train)\n",
    "predictions = model.predict(X_test)\n",
    "print('\\nMLPClassifier Accuracy: ' + str(accuracy_score(y_test, predictions)*100) + '%')\n",
    "\n",
    "model = KNeighborsClassifier()\n",
    "model.fit(X_train, y_train)\n",
    "predictions = model.predict(X_test)\n",
    "print('\\nKNeighborsClassifier Accuracy: ' + str(accuracy_score(y_test, predictions)*100) + '%')\n",
    "\n",
    "model = SVC()\n",
    "model.fit(X_train, y_train)\n",
    "predictions = model.predict(X_test)\n",
    "print('\\nSVC Accuracy: ' + str(accuracy_score(y_test, predictions)*100) + '%')"
   ]
  },
  {
   "cell_type": "markdown",
   "id": "210838bb",
   "metadata": {},
   "source": [
    "## Step 9: Enter your own test values\n",
    "The entire goal of machine learning is for it to be used in a real world setting. A model similar to the one we have created here could certainly be used in the medical field to diagnose patients with diabetes. Below is an example of how you can test out your own numbers to see if the patient would be diabetic or not. "
   ]
  },
  {
   "cell_type": "code",
   "execution_count": 321,
   "id": "3af352e9",
   "metadata": {},
   "outputs": [
    {
     "name": "stdout",
     "output_type": "stream",
     "text": [
      "Enter the number of pregnancies the patient has had: 4\n",
      "Enter the glucose level of the patient: 156\n",
      "Enter the blood pressure of the patient: 78\n",
      "Enter the skin thickness of the patient: 37\n",
      "Enter the insulin level of the patient: 0\n",
      "Enter the BMI of the patient: 43\n",
      "Enter the Diabetes Pedigree Function of the patient: .8\n",
      "Enter the age of the patient: 60\n",
      "This patient is diabetic.\n"
     ]
    }
   ],
   "source": [
    "preg = input('Enter the number of pregnancies the patient has had: ')\n",
    "gluc = input('Enter the glucose level of the patient: ')\n",
    "bp = input('Enter the blood pressure of the patient: ')\n",
    "st = input('Enter the skin thickness of the patient: ')\n",
    "ins = input('Enter the insulin level of the patient: ')\n",
    "bmi = input('Enter the BMI of the patient: ')\n",
    "dpf = input('Enter the Diabetes Pedigree Function of the patient: ')\n",
    "age = input('Enter the age of the patient: ')\n",
    "\n",
    "model = DecisionTreeClassifier()\n",
    "model.fit(X_train, y_train)\n",
    "predictions = model.predict([[preg, gluc, bp, st, ins, bmi, dpf, age]])\n",
    "if predictions[0] == 0:\n",
    "    print('This patient is not diabetic.')\n",
    "else:\n",
    "    print('This patient is diabetic.')"
   ]
  }
 ],
 "metadata": {
  "kernelspec": {
   "display_name": "Python 3",
   "language": "python",
   "name": "python3"
  },
  "language_info": {
   "codemirror_mode": {
    "name": "ipython",
    "version": 3
   },
   "file_extension": ".py",
   "mimetype": "text/x-python",
   "name": "python",
   "nbconvert_exporter": "python",
   "pygments_lexer": "ipython3",
   "version": "3.8.8"
  }
 },
 "nbformat": 4,
 "nbformat_minor": 5
}
